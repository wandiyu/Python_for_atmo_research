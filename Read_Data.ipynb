{
 "cells": [
  {
   "cell_type": "markdown",
   "metadata": {},
   "source": [
    "This notebook contains the methods of reading several common type of data format in atmospheric research "
   ]
  },
  {
   "cell_type": "code",
   "execution_count": 28,
   "metadata": {},
   "outputs": [],
   "source": [
    "%matplotlib inline"
   ]
  },
  {
   "cell_type": "markdown",
   "metadata": {},
   "source": [
    "# .nc"
   ]
  },
  {
   "cell_type": "markdown",
   "metadata": {},
   "source": [
    "## use Dataset:"
   ]
  },
  {
   "cell_type": "code",
   "execution_count": 5,
   "metadata": {},
   "outputs": [],
   "source": [
    "from netCDF4 import Dataset\n",
    "fname = ('/sn3/wyu/grid_out/mls_t_theta_2005_2016_monthly.nc')\n",
    "f = Dataset(fname)\n",
    "lon = f.variables['Lon'][:]\n",
    "temp = f.variables['Temp'][:]\n"
   ]
  },
  {
   "cell_type": "markdown",
   "metadata": {},
   "source": [
    "## use xarray"
   ]
  },
  {
   "cell_type": "code",
   "execution_count": 6,
   "metadata": {},
   "outputs": [],
   "source": [
    "import xarray as xr, numpy as np, pandas as pd"
   ]
  },
  {
   "cell_type": "code",
   "execution_count": 11,
   "metadata": {},
   "outputs": [],
   "source": [
    "fname = ('/sn3/wyu/grid_out/mls_t_theta_2005_2016_monthly.nc')\n",
    "f = xr.open_dataset(fname)\n",
    "temp = f.Temp\n",
    "lon = f.Lon"
   ]
  },
  {
   "cell_type": "code",
   "execution_count": 18,
   "metadata": {},
   "outputs": [],
   "source": [
    "# average or choose a slice\n",
    "temp_mean = temp.mean(dim='Lon')\n",
    "temp_slice = temp.sel(Lon=slice(0,180))"
   ]
  },
  {
   "cell_type": "code",
   "execution_count": 14,
   "metadata": {},
   "outputs": [],
   "source": [
    "# change the time dimension to a smarter mode:\n",
    "f['Time'] = pd.date_range('2005-05-01',periods=len(f['Time']),freq='M')"
   ]
  },
  {
   "cell_type": "code",
   "execution_count": 26,
   "metadata": {},
   "outputs": [
    {
     "name": "stderr",
     "output_type": "stream",
     "text": [
      "/usr/local/anaconda/lib/python3.7/site-packages/xarray/core/nanops.py:159: RuntimeWarning: Mean of empty slice\n",
      "  return np.nanmean(a, axis=axis, dtype=dtype)\n"
     ]
    }
   ],
   "source": [
    "# so you can choose a slice of time regarding to year, month, or even season\n",
    "temp = f.Temp\n",
    "temp_season = temp.groupby('Time.season').mean(dim='Time')\n",
    "temp_year = temp.groupby('Time.year').mean(dim='Time')\n",
    "temp_month = temp.groupby('Time.month').mean(dim='Time')"
   ]
  },
  {
   "cell_type": "code",
   "execution_count": 12,
   "metadata": {},
   "outputs": [],
   "source": [
    "# define a new array in xarray\n",
    "da = xr.DataArray([9,1,5,3,2],dims=['lat'],coords={'lat':[10,20,30,40,50]})"
   ]
  },
  {
   "cell_type": "markdown",
   "metadata": {},
   "source": [
    "## save .nc files"
   ]
  },
  {
   "cell_type": "code",
   "execution_count": null,
   "metadata": {},
   "outputs": [],
   "source": [
    "fout = '/sn3/wyu/grid_out/testfile.nc'\n",
    "f2 = Dataset(fout,'w')\n",
    "Lat = f2.createDimension('Lat',181)\n",
    "\n",
    "Lat = f2.createVariable('Lat','f',('Lat',))\n",
    "Lat.units = \"degree\"\n",
    "Lat.long_name = \"Latitude\"\n",
    "Lat[:] = np.arange(181)-90\n",
    "\n",
    "Test_var = f2.createVariable('Test_var','f',('Lat',))\n",
    "Test_var.long_name = \"test variable\"\n",
    "Test_var[:] = np.arange(181)\n"
   ]
  },
  {
   "cell_type": "markdown",
   "metadata": {},
   "source": [
    "# .sav "
   ]
  },
  {
   "cell_type": "code",
   "execution_count": 56,
   "metadata": {},
   "outputs": [],
   "source": [
    "from scipy.io import readsav\n",
    "file_name = '/sn3/wyu/ttl_traj_out/190519_s100_i100_ERAi_MLS_6hrly_back_201108_NA/traj_s100_i100_2011_3120_I106901.sav'\n",
    "f = readsav(file_name)"
   ]
  },
  {
   "cell_type": "markdown",
   "metadata": {},
   "source": [
    "the output f is a dict containing all the information in the sav file "
   ]
  },
  {
   "cell_type": "markdown",
   "metadata": {},
   "source": [
    "# .dat"
   ]
  },
  {
   "cell_type": "code",
   "execution_count": 57,
   "metadata": {},
   "outputs": [],
   "source": [
    "import pickle\n",
    "file_name = '/ice3/hao/TTL/pfister_conv/freq_z_th_avg_2x2.dat'\n",
    "f=open(file_name, 'rb')\n",
    "data = pickle.load(f,encoding='latin1')           # pay attention to the encoding when loading "
   ]
  },
  {
   "cell_type": "markdown",
   "metadata": {},
   "source": [
    "the output data is a dict containing all the information in the sav file "
   ]
  },
  {
   "cell_type": "markdown",
   "metadata": {},
   "source": [
    "# .he5"
   ]
  },
  {
   "cell_type": "code",
   "execution_count": 69,
   "metadata": {},
   "outputs": [],
   "source": [
    "import h5py\n",
    "filename = '/co2/hao/download_mls/raw_data/h2o/MLS-Aura_L2GP-H2O_v04_2011d001.he5'\n",
    "var = 'H2O'\n",
    "f = h5py.File(filename)\n",
    "loc = f.require_group('/HDFEOS/SWATHS/'+var+'/Geolocation Fields')\n",
    "lon = loc['Longitude'][:]\n",
    "lat = loc['Latitude'][:]\n",
    "pre = loc['Pressure'][:]\n",
    "t   = loc['Time'][:]\n",
    "\n",
    "var1  = f.require_group('/HDFEOS/SWATHS/'+var+'/Data Fields')\n",
    "value = var1['L2gpValue'][:]\n",
    "miss  = var1['L2gpValue'].attrs['MissingValue']\n",
    "prec  = var1['L2gpPrecision'][:]\n",
    "qual  = var1['Quality'][:]\n",
    "conv  = var1['Convergence'][:]\n",
    "stat  = var1['Status'][:]"
   ]
  },
  {
   "cell_type": "markdown",
   "metadata": {},
   "source": [
    "# .txt or other similar format"
   ]
  },
  {
   "cell_type": "markdown",
   "metadata": {},
   "source": [
    "## use pandas"
   ]
  },
  {
   "cell_type": "code",
   "execution_count": 163,
   "metadata": {},
   "outputs": [
    {
     "name": "stderr",
     "output_type": "stream",
     "text": [
      "/usr/local/anaconda/lib/python3.7/site-packages/ipykernel_launcher.py:3: ParserWarning: Falling back to the 'python' engine because the 'c' engine does not support regex separators (separators > 1 char and different from '\\s+' are interpreted as regex); you can avoid this warning by specifying engine='python'.\n",
      "  This is separate from the ipykernel package so we can avoid doing imports until\n"
     ]
    }
   ],
   "source": [
    "import pandas as pd\n",
    "data_name = '/sn2/wyu/ACE/ACE-FTS_L2_v3.5-6_ASC/ss78725v3.6tangrid.asc'\n",
    "data = pd.read_csv(data_name,sep=' +',header=9,index_col=None)"
   ]
  },
  {
   "cell_type": "markdown",
   "metadata": {},
   "source": [
    "you must be very careful and examine if it is read in the correct way, usually examine first five lines"
   ]
  },
  {
   "cell_type": "code",
   "execution_count": 171,
   "metadata": {},
   "outputs": [
    {
     "data": {
      "text/html": [
       "<div>\n",
       "<style scoped>\n",
       "    .dataframe tbody tr th:only-of-type {\n",
       "        vertical-align: middle;\n",
       "    }\n",
       "\n",
       "    .dataframe tbody tr th {\n",
       "        vertical-align: top;\n",
       "    }\n",
       "\n",
       "    .dataframe thead th {\n",
       "        text-align: right;\n",
       "    }\n",
       "</style>\n",
       "<table border=\"1\" class=\"dataframe\">\n",
       "  <thead>\n",
       "    <tr style=\"text-align: right;\">\n",
       "      <th></th>\n",
       "      <th>z</th>\n",
       "      <th>T</th>\n",
       "      <th>T_fit</th>\n",
       "      <th>P</th>\n",
       "      <th>(atm)</th>\n",
       "      <th>dens</th>\n",
       "      <th>H2O</th>\n",
       "      <th>H2O_err</th>\n",
       "      <th>O3</th>\n",
       "      <th>O3_err</th>\n",
       "      <th>...</th>\n",
       "      <th>CFC113</th>\n",
       "      <th>CFC113_err</th>\n",
       "      <th>HCFC141b</th>\n",
       "      <th>HCFC141b_err</th>\n",
       "      <th>HCFC142b</th>\n",
       "      <th>HCFC142b_err</th>\n",
       "      <th>HFC134a</th>\n",
       "      <th>HFC134a_err</th>\n",
       "      <th>CO2</th>\n",
       "      <th>CO2_err</th>\n",
       "    </tr>\n",
       "  </thead>\n",
       "  <tbody>\n",
       "    <tr>\n",
       "      <th>0</th>\n",
       "      <td>5.1</td>\n",
       "      <td>231.90</td>\n",
       "      <td>0</td>\n",
       "      <td>0.490</td>\n",
       "      <td>1.550000e+19</td>\n",
       "      <td>0.000091</td>\n",
       "      <td>5.490000e-05</td>\n",
       "      <td>1.070000e-07</td>\n",
       "      <td>2.490000e-08</td>\n",
       "      <td>3.430000e-07</td>\n",
       "      <td>...</td>\n",
       "      <td>-9.990000e+02</td>\n",
       "      <td>-9.990000e+02</td>\n",
       "      <td>-9.990000e+02</td>\n",
       "      <td>2.980000e-11</td>\n",
       "      <td>1.190000e-11</td>\n",
       "      <td>-999.0</td>\n",
       "      <td>-999.0</td>\n",
       "      <td>0.000396</td>\n",
       "      <td>0.000027</td>\n",
       "      <td>NaN</td>\n",
       "    </tr>\n",
       "    <tr>\n",
       "      <th>1</th>\n",
       "      <td>6.2</td>\n",
       "      <td>230.09</td>\n",
       "      <td>0</td>\n",
       "      <td>0.416</td>\n",
       "      <td>1.330000e+19</td>\n",
       "      <td>0.000035</td>\n",
       "      <td>2.180000e-05</td>\n",
       "      <td>1.120000e-07</td>\n",
       "      <td>1.060000e-08</td>\n",
       "      <td>3.040000e-07</td>\n",
       "      <td>...</td>\n",
       "      <td>-9.990000e+02</td>\n",
       "      <td>-9.990000e+02</td>\n",
       "      <td>-9.990000e+02</td>\n",
       "      <td>2.260000e-11</td>\n",
       "      <td>4.820000e-12</td>\n",
       "      <td>-999.0</td>\n",
       "      <td>-999.0</td>\n",
       "      <td>0.000392</td>\n",
       "      <td>0.000011</td>\n",
       "      <td>NaN</td>\n",
       "    </tr>\n",
       "    <tr>\n",
       "      <th>2</th>\n",
       "      <td>7.5</td>\n",
       "      <td>227.53</td>\n",
       "      <td>0</td>\n",
       "      <td>0.342</td>\n",
       "      <td>1.100000e+19</td>\n",
       "      <td>0.000017</td>\n",
       "      <td>2.430000e-05</td>\n",
       "      <td>3.010000e-07</td>\n",
       "      <td>1.410000e-08</td>\n",
       "      <td>3.150000e-07</td>\n",
       "      <td>...</td>\n",
       "      <td>8.600000e-12</td>\n",
       "      <td>5.920000e-11</td>\n",
       "      <td>4.190000e-11</td>\n",
       "      <td>2.110000e-11</td>\n",
       "      <td>6.370000e-12</td>\n",
       "      <td>-999.0</td>\n",
       "      <td>-999.0</td>\n",
       "      <td>0.000395</td>\n",
       "      <td>0.000014</td>\n",
       "      <td>NaN</td>\n",
       "    </tr>\n",
       "    <tr>\n",
       "      <th>3</th>\n",
       "      <td>8.8</td>\n",
       "      <td>226.07</td>\n",
       "      <td>0</td>\n",
       "      <td>0.281</td>\n",
       "      <td>9.110000e+18</td>\n",
       "      <td>0.000008</td>\n",
       "      <td>5.290000e-07</td>\n",
       "      <td>4.500000e-07</td>\n",
       "      <td>1.000000e-08</td>\n",
       "      <td>3.010000e-07</td>\n",
       "      <td>...</td>\n",
       "      <td>5.750000e-12</td>\n",
       "      <td>4.540000e-12</td>\n",
       "      <td>2.660000e-11</td>\n",
       "      <td>1.750000e-11</td>\n",
       "      <td>4.260000e-12</td>\n",
       "      <td>-999.0</td>\n",
       "      <td>-999.0</td>\n",
       "      <td>0.000392</td>\n",
       "      <td>0.000010</td>\n",
       "      <td>NaN</td>\n",
       "    </tr>\n",
       "    <tr>\n",
       "      <th>4</th>\n",
       "      <td>10.1</td>\n",
       "      <td>227.14</td>\n",
       "      <td>0</td>\n",
       "      <td>0.229</td>\n",
       "      <td>7.410000e+18</td>\n",
       "      <td>0.000005</td>\n",
       "      <td>5.130000e-07</td>\n",
       "      <td>7.380000e-07</td>\n",
       "      <td>9.180000e-09</td>\n",
       "      <td>2.850000e-07</td>\n",
       "      <td>...</td>\n",
       "      <td>6.160000e-12</td>\n",
       "      <td>3.550000e-11</td>\n",
       "      <td>2.160000e-11</td>\n",
       "      <td>2.300000e-11</td>\n",
       "      <td>4.250000e-12</td>\n",
       "      <td>-999.0</td>\n",
       "      <td>-999.0</td>\n",
       "      <td>0.000394</td>\n",
       "      <td>0.000010</td>\n",
       "      <td>NaN</td>\n",
       "    </tr>\n",
       "  </tbody>\n",
       "</table>\n",
       "<p>5 rows × 82 columns</p>\n",
       "</div>"
      ],
      "text/plain": [
       "      z       T  T_fit      P         (atm)      dens           H2O  \\\n",
       "0   5.1  231.90      0  0.490  1.550000e+19  0.000091  5.490000e-05   \n",
       "1   6.2  230.09      0  0.416  1.330000e+19  0.000035  2.180000e-05   \n",
       "2   7.5  227.53      0  0.342  1.100000e+19  0.000017  2.430000e-05   \n",
       "3   8.8  226.07      0  0.281  9.110000e+18  0.000008  5.290000e-07   \n",
       "4  10.1  227.14      0  0.229  7.410000e+18  0.000005  5.130000e-07   \n",
       "\n",
       "        H2O_err            O3        O3_err  ...        CFC113    CFC113_err  \\\n",
       "0  1.070000e-07  2.490000e-08  3.430000e-07  ... -9.990000e+02 -9.990000e+02   \n",
       "1  1.120000e-07  1.060000e-08  3.040000e-07  ... -9.990000e+02 -9.990000e+02   \n",
       "2  3.010000e-07  1.410000e-08  3.150000e-07  ...  8.600000e-12  5.920000e-11   \n",
       "3  4.500000e-07  1.000000e-08  3.010000e-07  ...  5.750000e-12  4.540000e-12   \n",
       "4  7.380000e-07  9.180000e-09  2.850000e-07  ...  6.160000e-12  3.550000e-11   \n",
       "\n",
       "       HCFC141b  HCFC141b_err      HCFC142b  HCFC142b_err  HFC134a  \\\n",
       "0 -9.990000e+02  2.980000e-11  1.190000e-11        -999.0   -999.0   \n",
       "1 -9.990000e+02  2.260000e-11  4.820000e-12        -999.0   -999.0   \n",
       "2  4.190000e-11  2.110000e-11  6.370000e-12        -999.0   -999.0   \n",
       "3  2.660000e-11  1.750000e-11  4.260000e-12        -999.0   -999.0   \n",
       "4  2.160000e-11  2.300000e-11  4.250000e-12        -999.0   -999.0   \n",
       "\n",
       "   HFC134a_err       CO2  CO2_err  \n",
       "0     0.000396  0.000027      NaN  \n",
       "1     0.000392  0.000011      NaN  \n",
       "2     0.000395  0.000014      NaN  \n",
       "3     0.000392  0.000010      NaN  \n",
       "4     0.000394  0.000010      NaN  \n",
       "\n",
       "[5 rows x 82 columns]"
      ]
     },
     "execution_count": 171,
     "metadata": {},
     "output_type": "execute_result"
    }
   ],
   "source": [
    "data.head(5)"
   ]
  },
  {
   "cell_type": "markdown",
   "metadata": {},
   "source": [
    "## use build-in function "
   ]
  },
  {
   "cell_type": "code",
   "execution_count": 1,
   "metadata": {},
   "outputs": [
    {
     "ename": "NameError",
     "evalue": "name 'np' is not defined",
     "output_type": "error",
     "traceback": [
      "\u001b[0;31m------------------------------------------------------------------------\u001b[0m",
      "\u001b[0;31mNameError\u001b[0m                              Traceback (most recent call last)",
      "\u001b[0;32m<ipython-input-1-55138ecfb5b5>\u001b[0m in \u001b[0;36m<module>\u001b[0;34m\u001b[0m\n\u001b[1;32m      5\u001b[0m \u001b[0mdata_len\u001b[0m \u001b[0;34m=\u001b[0m \u001b[0mlen\u001b[0m\u001b[0;34m(\u001b[0m\u001b[0mread_data\u001b[0m\u001b[0;34m)\u001b[0m\u001b[0;34m-\u001b[0m\u001b[0mheader\u001b[0m\u001b[0;34m\u001b[0m\u001b[0;34m\u001b[0m\u001b[0m\n\u001b[1;32m      6\u001b[0m \u001b[0mdata_column\u001b[0m \u001b[0;34m=\u001b[0m \u001b[0mlen\u001b[0m\u001b[0;34m(\u001b[0m\u001b[0mread_data\u001b[0m\u001b[0;34m[\u001b[0m\u001b[0mheader\u001b[0m\u001b[0;34m]\u001b[0m\u001b[0;34m.\u001b[0m\u001b[0msplit\u001b[0m\u001b[0;34m(\u001b[0m\u001b[0;34m)\u001b[0m\u001b[0;34m)\u001b[0m\u001b[0;34m\u001b[0m\u001b[0;34m\u001b[0m\u001b[0m\n\u001b[0;32m----> 7\u001b[0;31m \u001b[0mf\u001b[0m \u001b[0;34m=\u001b[0m \u001b[0mnp\u001b[0m\u001b[0;34m.\u001b[0m\u001b[0mzeros\u001b[0m\u001b[0;34m(\u001b[0m\u001b[0;34m[\u001b[0m\u001b[0mdata_column\u001b[0m\u001b[0;34m,\u001b[0m\u001b[0mdata_len\u001b[0m\u001b[0;34m]\u001b[0m\u001b[0;34m)\u001b[0m\u001b[0;34m\u001b[0m\u001b[0;34m\u001b[0m\u001b[0m\n\u001b[0m\u001b[1;32m      8\u001b[0m \u001b[0;32mfor\u001b[0m \u001b[0mi\u001b[0m \u001b[0;32min\u001b[0m \u001b[0mrange\u001b[0m\u001b[0;34m(\u001b[0m\u001b[0mdata_len\u001b[0m\u001b[0;34m)\u001b[0m\u001b[0;34m:\u001b[0m\u001b[0;34m\u001b[0m\u001b[0;34m\u001b[0m\u001b[0m\n\u001b[1;32m      9\u001b[0m     \u001b[0marr\u001b[0m \u001b[0;34m=\u001b[0m \u001b[0;34m[\u001b[0m\u001b[0mfloat\u001b[0m\u001b[0;34m(\u001b[0m\u001b[0mi\u001b[0m\u001b[0;34m)\u001b[0m \u001b[0;32mfor\u001b[0m \u001b[0mi\u001b[0m \u001b[0;32min\u001b[0m \u001b[0mread_data\u001b[0m\u001b[0;34m[\u001b[0m\u001b[0mi\u001b[0m\u001b[0;34m+\u001b[0m\u001b[0mheader\u001b[0m\u001b[0;34m]\u001b[0m\u001b[0;34m.\u001b[0m\u001b[0msplit\u001b[0m\u001b[0;34m(\u001b[0m\u001b[0;34m)\u001b[0m\u001b[0;34m]\u001b[0m\u001b[0;34m\u001b[0m\u001b[0;34m\u001b[0m\u001b[0m\n",
      "\u001b[0;31mNameError\u001b[0m: name 'np' is not defined"
     ]
    }
   ],
   "source": [
    "data_name = '/sn2/wyu/ACE/ACE-FTS_L2_v3.5-6_ASC/ss78725v3.6tangrid.asc'\n",
    "header = 12\n",
    "data = open(data_name)\n",
    "read_data = data.read().split('\\n')\n",
    "data_len = len(read_data)-header\n",
    "data_column = len(read_data[header].split())\n",
    "f = np.zeros([data_column,data_len])\n",
    "for i in range(data_len):\n",
    "    arr = [float(i) for i in read_data[i+header].split()]\n",
    "    if len(arr):\n",
    "        f[:,i] = arr\n",
    "column_name = read_data[header-1].split()"
   ]
  },
  {
   "cell_type": "code",
   "execution_count": 120,
   "metadata": {},
   "outputs": [],
   "source": [
    "# wrap in a function \n",
    "'''\n",
    "function of reading data\n",
    "\n",
    "input:\n",
    "data_name: name of the file\n",
    "header: number of header rows (column name is included) \n",
    "\n",
    "output:\n",
    "f: 2-d data content\n",
    "column_name: the variable name of each column\n",
    "Wandi Yu\n",
    "04.27.2016\n",
    "'''\n",
    "def read_data(data_name,header):\n",
    "    data = open(data_name)\n",
    "    read_data = data.read().split('\\n')\n",
    "    data_len = len(read_data)-header\n",
    "    data_column = len(read_data[header].split())\n",
    "    f = np.zeros([data_column,data_len])\n",
    "    for i in range(data_len):\n",
    "        arr = [float(i) for i in read_data[i+header].split()]\n",
    "        if len(arr):\n",
    "            f[:,i] = arr\n",
    "    column_name = read_data[header-1].split()\n",
    "    return f,column_name"
   ]
  },
  {
   "cell_type": "code",
   "execution_count": 121,
   "metadata": {},
   "outputs": [],
   "source": [
    "# example: \n",
    "data_name = '/sn2/wyu/ACE/ACE-FTS_L2_v3.5-6_ASC/ss78725v3.6tangrid.asc'\n",
    "data,name = read_data(fname,12)"
   ]
  }
 ],
 "metadata": {
  "kernelspec": {
   "display_name": "Python 3",
   "language": "python",
   "name": "python3"
  },
  "language_info": {
   "codemirror_mode": {
    "name": "ipython",
    "version": 3
   },
   "file_extension": ".py",
   "mimetype": "text/x-python",
   "name": "python",
   "nbconvert_exporter": "python",
   "pygments_lexer": "ipython3",
   "version": "3.7.3"
  }
 },
 "nbformat": 4,
 "nbformat_minor": 2
}
